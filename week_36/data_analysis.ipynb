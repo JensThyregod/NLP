{
 "cells": [
  {
   "cell_type": "code",
   "execution_count": 1,
   "metadata": {},
   "outputs": [],
   "source": [
    "from datasets import load_dataset\n",
    "import Preprocessor as p\n",
    "import numpy as np"
   ]
  },
  {
   "cell_type": "code",
   "execution_count": 2,
   "metadata": {},
   "outputs": [],
   "source": [
    "# Load the copenlu/answerable_tydiqa dataset\n",
    "dataset = load_dataset(\"copenlu/answerable_tydiqa\")\n",
    "\n",
    "train_df = dataset['train'].to_pandas()\n",
    "train_df = train_df[train_df['language'].isin(['indonesian', 'arabic', 'bengali'])]\n",
    "train_df = p.DataFramePreprocessor(train_df).df\n",
    "\n",
    "val_df = dataset['validation'].to_pandas()\n",
    "val_df = val_df[val_df['language'].isin(['indonesian', 'arabic', 'bengali'])]\n",
    "val_df = p.DataFramePreprocessor(val_df).df"
   ]
  },
  {
   "cell_type": "markdown",
   "metadata": {},
   "source": [
    "How much data do we have from each language?"
   ]
  },
  {
   "cell_type": "code",
   "execution_count": 3,
   "metadata": {},
   "outputs": [
    {
     "name": "stdout",
     "output_type": "stream",
     "text": [
      "Train set\n",
      "arabic: 29598, 0.6466539948875926\n",
      "bengali: 4779, 0.10441108999147933\n",
      "indonesian: 11394, 0.2489349151209281\n",
      "There are 6.193345888261143 times more arabic rows than bengali\n",
      "\n",
      "Val set\n",
      "arabic: 1902, 0.5734097075670787\n",
      "bengali: 224, 0.06753090141694303\n",
      "indonesian: 1191, 0.3590593910159783\n",
      "There are 8.491071428571429 times more arabic rows than bengali\n",
      "\n",
      "training to validation ratio\n",
      "arabic: val:0.06038095238095238, train:0.9396190476190476\n",
      "bengali: val:0.044773136118329004, train:0.955226863881671\n",
      "indonesian: val:0.09463647199046483, train:0.7745224661817688\n"
     ]
    }
   ],
   "source": [
    "at, bt, it = train_df.groupby(['language']).size().values\n",
    "tt = at + bt + it\n",
    "print(f\"\"\"Train set\n",
    "arabic: {at}, {at / tt}\n",
    "bengali: {bt}, {bt / tt}\n",
    "indonesian: {it}, {it / tt}\"\"\")\n",
    "print(f'There are {at/bt} times more arabic rows than bengali\\n')\n",
    "\n",
    "av, bv, iv = val_df.groupby(['language']).size().values\n",
    "tv = av + bv + iv\n",
    "print(f\"\"\"Val set\n",
    "arabic: {av}, {av / tv}\n",
    "bengali: {bv}, {bv / tv}\n",
    "indonesian: {iv}, {iv / tv}\"\"\")\n",
    "print(f'There are {av/bv} times more arabic rows than bengali\\n')\n",
    "\n",
    "print(f\"\"\"training to validation ratio\n",
    "arabic: val:{av/(av + at)}, train:{at / (av + at)}\n",
    "bengali: val:{bv/(bt+bv)}, train:{bt / (bt+bv)}\n",
    "indonesian: val:{iv/(it+iv)}, train:{it / (it+tv)}\"\"\")\n",
    "#print(f'There are {av/bv} times more arabic rows than bengali')\n"
   ]
  },
  {
   "cell_type": "markdown",
   "metadata": {},
   "source": [
    "How many are questions are answerable?"
   ]
  },
  {
   "cell_type": "code",
   "execution_count": 4,
   "metadata": {},
   "outputs": [
    {
     "name": "stdout",
     "output_type": "stream",
     "text": [
      "language    is_answerable\n",
      "arabic      False            14793\n",
      "            True             14805\n",
      "bengali     False             2389\n",
      "            True              2390\n",
      "indonesian  False             5692\n",
      "            True              5702\n",
      "dtype: int64\n",
      "Val: language    is_answerable\n",
      "arabic      False            951\n",
      "            True             951\n",
      "bengali     False            112\n",
      "            True             112\n",
      "indonesian  False            594\n",
      "            True             597\n",
      "dtype: int64\n"
     ]
    }
   ],
   "source": [
    "train_df['is_answerable'] = train_df['annotations'].apply(lambda x: x.get('answer_start', [-1])[0] != -1)\n",
    "val_df['is_answerable'] = val_df['annotations'].apply(lambda x: x.get('answer_start', [-1])[0] != -1)\n",
    "\n",
    "print(train_df.groupby(['language', 'is_answerable']).size())\n",
    "print(f\"\"\"Val: {val_df.groupby(['language', 'is_answerable']).size()}\"\"\")"
   ]
  },
  {
   "cell_type": "markdown",
   "metadata": {},
   "source": [
    "Is there a significant difference of the document length between the languages?"
   ]
  },
  {
   "cell_type": "code",
   "execution_count": 5,
   "metadata": {},
   "outputs": [
    {
     "data": {
      "text/plain": [
       "<Figure size 1080x576 with 0 Axes>"
      ]
     },
     "metadata": {},
     "output_type": "display_data"
    },
    {
     "data": {
      "image/png": "[encoded data removed]",
      "text/plain": [
       "<Figure size 432x288 with 1 Axes>"
      ]
     },
     "metadata": {
      "needs_background": "light"
     },
     "output_type": "display_data"
    }
   ],
   "source": [
    "from matplotlib import pyplot as plt\n",
    "\n",
    "train_df['document_length'] = train_df['document_plaintext'].str.len()\n",
    "\n",
    "# Remove outliers (singular train_df points) by using the showfliers=False parameter in the boxplot function\n",
    "plt.figure(figsize=(15, 8))\n",
    "boxplot = train_df.boxplot(column='document_length', by='language', grid=True, patch_artist=True, vert=False, showfliers=False)\n",
    "\n",
    "# Set the title and labels\n",
    "plt.title('Boxplot of Document Lengths by Language (without outliers)')\n",
    "plt.suptitle('')  # Suppress the default title\n",
    "plt.ylabel('Language')\n",
    "plt.xlabel('Document Length')\n",
    "plt.tight_layout()\n",
    "\n",
    "plt.show()"
   ]
  },
  {
   "cell_type": "code",
   "execution_count": 6,
   "metadata": {},
   "outputs": [
    {
     "data": {
      "text/plain": [
       "<Figure size 1080x576 with 0 Axes>"
      ]
     },
     "metadata": {},
     "output_type": "display_data"
    },
    {
     "data": {
      "image/png": "[encoded data removed]",
      "text/plain": [
       "<Figure size 432x288 with 1 Axes>"
      ]
     },
     "metadata": {
      "needs_background": "light"
     },
     "output_type": "display_data"
    }
   ],
   "source": [
    "from matplotlib import pyplot as plt\n",
    "\n",
    "train_df['question_length'] = train_df['question_text'].str.len()\n",
    "\n",
    "# Remove outliers (singular train_df points) by using the showfliers=False parameter in the boxplot function\n",
    "plt.figure(figsize=(15, 8))\n",
    "boxplot = train_df.boxplot(column='question_length', by='language', grid=True, patch_artist=True, vert=False, showfliers=False)\n",
    "\n",
    "# Set the title and labels\n",
    "plt.title('Boxplot of question lengths by Language (without outliers)')\n",
    "plt.suptitle('')  # Suppress the default title\n",
    "plt.ylabel('Language')\n",
    "plt.xlabel('Document Length')\n",
    "plt.tight_layout()\n",
    "\n",
    "plt.show()"
   ]
  },
  {
   "cell_type": "code",
   "execution_count": 100,
   "metadata": {},
   "outputs": [
    {
     "name": "stdout",
     "output_type": "stream",
     "text": [
      "Means:\n",
      "            is_answerable  document_length  word_count\n",
      "language                                              \n",
      "arabic           0.500203       474.587607   78.188661\n",
      "bengali          0.500105       554.566227   79.929902\n",
      "indonesian       0.500439       529.921011   72.397578\n",
      "\n",
      "Medians::\n",
      "            is_answerable  document_length  word_count\n",
      "language                                              \n",
      "arabic                1.0            364.0        60.0\n",
      "bengali               1.0            467.0        66.0\n",
      "indonesian            1.0            439.0        60.0\n"
     ]
    },
    {
     "data": {
      "text/plain": [
       "<Figure size 720x432 with 0 Axes>"
      ]
     },
     "metadata": {},
     "output_type": "display_data"
    },
    {
     "data": {
      "image/png": "[encoded data removed]",
      "text/plain": [
       "<Figure size 432x288 with 1 Axes>"
      ]
     },
     "metadata": {
      "needs_background": "light"
     },
     "output_type": "display_data"
    }
   ],
   "source": [
    "train_df['word_count'] = train_df['document_plaintext'].str.split().str.len()\n",
    "print(f\"Means:\\n{train_df.groupby('language').mean()}\", end='\\n\\n')\n",
    "print(f\"Medians::\\n{train_df.groupby('language').median()}\")\n",
    "\n",
    "\n",
    "plt.figure(figsize=(10, 6))\n",
    "boxplot = train_df.boxplot(column='word_count', by='language', grid=True, patch_artist=True, vert=False, showfliers=False)\n",
    "\n",
    "# Set the title and labels\n",
    "plt.title('Boxplot of Word Counts by Language (without outliers)')\n",
    "plt.suptitle('')  # Suppress the default title\n",
    "plt.ylabel('Language')\n",
    "plt.xlabel('Word Count')\n",
    "plt.tight_layout()\n",
    "\n",
    "plt.show()\n"
   ]
  },
  {
   "cell_type": "code",
   "execution_count": 113,
   "metadata": {},
   "outputs": [
    {
     "data": {
      "image/png": "[encoded data removed]",
      "text/plain": [
       "<Figure size 576x576 with 1 Axes>"
      ]
     },
     "metadata": {},
     "output_type": "display_data"
    }
   ],
   "source": [
    "# Count the number of datapoints for each language\n",
    "language_counts = train_df['language'].value_counts()\n",
    "\n",
    "# Function to display both percentage and actual count\n",
    "def func(pct, allvals):\n",
    "    absolute = int(pct/100.*np.sum(allvals))\n",
    "    return f\"{pct:.1f}%\\n({absolute:d})\"\n",
    "\n",
    "# Create a pie chart of the distribution of datapoints by language with specific count for each language\n",
    "plt.figure(figsize=(8, 8))\n",
    "language_counts.plot.pie(autopct=lambda pct: func(pct, language_counts), \n",
    "                         startangle=90, colors=['#FF9999', '#66B2FF', '#99FF99'], explode=(0.1, 0, 0))\n",
    "plt.title('Distribution of data points by Language', fontsize=18)\n",
    "plt.ylabel('')  # Remove the default ylabel\n",
    "\n",
    "plt.gca().set_aspect(\"equal\")  # Ensure the pie chart is a circle\n",
    "plt.tight_layout()  # Ensure the labels don't overlap\n",
    "\n",
    "# Adjust the font size of the text labels\n",
    "for text in plt.gca().texts:\n",
    "    text.set_fontsize(18)\n",
    "plt.savefig(\"piechart.png\", bbox_inches='tight')\n",
    "plt.show()\n",
    "\n",
    "\n"
   ]
  },
  {
   "cell_type": "code",
   "execution_count": null,
   "metadata": {},
   "outputs": [],
   "source": []
  },
  {
   "cell_type": "code",
   "execution_count": 82,
   "metadata": {},
   "outputs": [
    {
     "data": {
      "image/png": "[encoded data removed]",
      "text/plain": [
       "<Figure size 720x432 with 1 Axes>"
      ]
     },
     "metadata": {
      "needs_background": "light"
     },
     "output_type": "display_data"
    }
   ],
   "source": [
    "\n",
    "train_df['is_answerable'] = train_df['annotations'].apply(lambda x: x.get('answer_start', [-1])[0] != -1)\n",
    "\n",
    "final_answerable_counts = train_df.groupby('language')['is_answerable'].value_counts().unstack().fillna(0)\n",
    "\n",
    "final_answerable_percentage = (final_answerable_counts.T / final_answerable_counts.sum(axis=1)).T * 100\n",
    "\n",
    "final_percentage_plot = final_answerable_percentage.plot.bar(stacked=True, figsize=(10, 6), color=['#FF9999', '#66B2FF'])\n",
    "plt.title('Percentage Distribution of Answerable vs. Unanswerable Questions by Language')\n",
    "plt.xlabel('Language')\n",
    "plt.ylabel('Percentage')\n",
    "plt.legend(['Unanswerable', 'Answerable'], loc='upper right')\n",
    "plt.ylim(0, 100)  # Set y-axis limits to 0-100 for clarity\n",
    "\n",
    "for p in final_percentage_plot.patches:\n",
    "    width, height = p.get_width(), p.get_height()\n",
    "    x, y = p.get_xy()\n",
    "    if height > 5:  # Only annotate if the height is large enough to be visible\n",
    "        final_percentage_plot.annotate(f'{height:.2f}%', (x + width/2, y + height/2), ha='center', va='center')\n",
    "\n",
    "plt.show()\n",
    "\n"
   ]
  },
  {
   "cell_type": "code",
   "execution_count": 94,
   "metadata": {},
   "outputs": [
    {
     "data": {
      "text/plain": [
       "language\n",
       "arabic        50.020272\n",
       "bengali       49.717514\n",
       "indonesian    50.043883\n",
       "dtype: float64"
      ]
     },
     "execution_count": 94,
     "metadata": {},
     "output_type": "execute_result"
    }
   ],
   "source": [
    "unique_question_percentage"
   ]
  },
  {
   "cell_type": "code",
   "execution_count": 77,
   "metadata": {},
   "outputs": [
    {
     "data": {
      "text/plain": [
       "0.5002512507919862"
      ]
     },
     "execution_count": 77,
     "metadata": {},
     "output_type": "execute_result"
    }
   ],
   "source": [
    "unique_question_counts"
   ]
  },
  {
   "cell_type": "code",
   "execution_count": 79,
   "metadata": {},
   "outputs": [
    {
     "data": {
      "text/html": [
       "<div>\n",
       "<style scoped>\n",
       "    .dataframe tbody tr th:only-of-type {\n",
       "        vertical-align: middle;\n",
       "    }\n",
       "\n",
       "    .dataframe tbody tr th {\n",
       "        vertical-align: top;\n",
       "    }\n",
       "\n",
       "    .dataframe thead th {\n",
       "        text-align: right;\n",
       "    }\n",
       "</style>\n",
       "<table border=\"1\" class=\"dataframe\">\n",
       "  <thead>\n",
       "    <tr style=\"text-align: right;\">\n",
       "      <th>is_answerable</th>\n",
       "      <th>False</th>\n",
       "      <th>True</th>\n",
       "    </tr>\n",
       "    <tr>\n",
       "      <th>language</th>\n",
       "      <th></th>\n",
       "      <th></th>\n",
       "    </tr>\n",
       "  </thead>\n",
       "  <tbody>\n",
       "    <tr>\n",
       "      <th>arabic</th>\n",
       "      <td>49.979728</td>\n",
       "      <td>50.020272</td>\n",
       "    </tr>\n",
       "    <tr>\n",
       "      <th>bengali</th>\n",
       "      <td>49.989538</td>\n",
       "      <td>50.010462</td>\n",
       "    </tr>\n",
       "    <tr>\n",
       "      <th>indonesian</th>\n",
       "      <td>49.956117</td>\n",
       "      <td>50.043883</td>\n",
       "    </tr>\n",
       "  </tbody>\n",
       "</table>\n",
       "</div>"
      ],
      "text/plain": [
       "is_answerable      False       True\n",
       "language                           \n",
       "arabic         49.979728  50.020272\n",
       "bengali        49.989538  50.010462\n",
       "indonesian     49.956117  50.043883"
      ]
     },
     "execution_count": 79,
     "metadata": {},
     "output_type": "execute_result"
    }
   ],
   "source": [
    "(final_answerable_counts.T / final_answerable_counts.sum(axis=1)).T * 100"
   ]
  },
  {
   "cell_type": "markdown",
   "metadata": {},
   "source": [
    "Create oracle function and rulebased classifier"
   ]
  },
  {
   "cell_type": "code",
   "execution_count": 41,
   "metadata": {},
   "outputs": [],
   "source": [
    "def oracle_eval(row):\n",
    "    answer = row['annotations']['answer_text'][0]\n",
    "    return bool(answer) and answer in row['document_plaintext']\n",
    "\n",
    "def rule_based_classifier(row, threshold=0.5):\n",
    "    ## count how many words in the question appear in the document\n",
    "    question_words = row['question_text'].split()\n",
    "    document_words = row['document_plaintext'].split()\n",
    "    count = 0\n",
    "    for word in question_words:\n",
    "        if word in document_words:\n",
    "            count += 1\n",
    "    count = count / len(question_words)\n",
    "    if count >= threshold:\n",
    "        return True\n",
    "    else:\n",
    "        return False\n",
    "            "
   ]
  },
  {
   "cell_type": "markdown",
   "metadata": {},
   "source": [
    "Find the best threshold"
   ]
  },
  {
   "cell_type": "code",
   "execution_count": 87,
   "metadata": {},
   "outputs": [
    {
     "name": "stdout",
     "output_type": "stream",
     "text": [
      "Score for threshold 0.05 is 0.6698127635402329\n",
      "Score for threshold 0.06 is 0.6699001551200542\n",
      "Score for threshold 0.07 is 0.6699875466998755\n",
      "Score for threshold 0.08 is 0.6705774398636691\n",
      "Score for threshold 0.09 is 0.6713639640820607\n",
      "Score for threshold 0.1 is 0.6726311419894693\n",
      "Score for threshold 0.11 is 0.6747066920102248\n",
      "Score for threshold 0.12 is 0.6787048567870486\n",
      "Score for threshold 0.13 is 0.6847785715846278\n",
      "Score for threshold 0.14 is 0.6848004194795831\n",
      "Score for threshold 0.15 is 0.6940202311507286\n",
      "Score for threshold 0.16 is 0.6943697974700138\n",
      "Score for threshold 0.17 is 0.7077188612877149\n",
      "Score for threshold 0.18 is 0.7077407091826703\n",
      "Score for threshold 0.19 is 0.7080684276070001\n",
      "Score for threshold 0.2 is 0.7080684276070001\n",
      "Score for threshold 0.21 is 0.7196915077232309\n",
      "Score for threshold 0.22 is 0.7196915077232309\n",
      "Score for threshold 0.23 is 0.7204124882567564\n",
      "Score for threshold 0.24 is 0.7206746629962203\n",
      "Score for threshold 0.25 is 0.7206746629962203\n",
      "Score for threshold 0.26 is 0.7130715955517686\n",
      "Score for threshold 0.27 is 0.7130497476568133\n",
      "Score for threshold 0.28 is 0.7128312687072601\n",
      "Score for threshold 0.29 is 0.711061589215879\n",
      "Score for threshold 0.3 is 0.7110834371108343\n",
      "Score for threshold 0.31 is 0.710515391841996\n",
      "Score for threshold 0.32 is 0.7105590876319067\n",
      "Score for threshold 0.33 is 0.7105590876319067\n",
      "Score for threshold 0.34 is 0.6917480500753752\n",
      "Score for threshold 0.35 is 0.6917480500753752\n",
      "Score for threshold 0.36 is 0.6916606584955539\n",
      "Score for threshold 0.37 is 0.6910926132267156\n",
      "Score for threshold 0.38 is 0.6865264031810535\n",
      "Score for threshold 0.39 is 0.6863516200214109\n",
      "Score for threshold 0.4 is 0.6863516200214109\n",
      "Score for threshold 0.41 is 0.6577308776299403\n",
      "Score for threshold 0.42 is 0.6576653339450744\n",
      "Score for threshold 0.43 is 0.6477245417404033\n",
      "Score for threshold 0.44 is 0.6476808459504927\n",
      "Score for threshold 0.45 is 0.6452994254003627\n",
      "Score for threshold 0.46 is 0.6446221406567477\n",
      "Score for threshold 0.47 is 0.6443381180223285\n",
      "Score for threshold 0.48 is 0.6443162701273732\n",
      "Score for threshold 0.49 is 0.6443162701273732\n",
      "Score for threshold 0.5 is 0.6443162701273732\n",
      "Score for threshold 0.51 is 0.5826833584584126\n",
      "Score for threshold 0.52 is 0.5826833584584126\n",
      "Score for threshold 0.53 is 0.5826615105634572\n",
      "Score for threshold 0.54 is 0.5825522710886806\n",
      "Score for threshold 0.55 is 0.5821371610845295\n",
      "Score for threshold 0.56 is 0.5795591094798016\n",
      "Score for threshold 0.57 is 0.5795372615848463\n",
      "Score for threshold 0.58 is 0.5701645146490135\n",
      "Score for threshold 0.59 is 0.5697494046448625\n",
      "Score for threshold 0.6 is 0.5697494046448625\n",
      "Score for threshold 0.61 is 0.5441436717572262\n",
      "Score for threshold 0.62 is 0.5438814970177623\n",
      "Score for threshold 0.63 is 0.5389875685477704\n",
      "Score for threshold 0.64 is 0.5383539795940661\n",
      "Score for threshold 0.65 is 0.5382665880142449\n",
      "Score for threshold 0.66 is 0.5382665880142449\n",
      "Score for threshold 0.67 is 0.5234755631294925\n",
      "Score for threshold 0.68 is 0.5234755631294925\n",
      "Score for threshold 0.69 is 0.5234318673395818\n",
      "Score for threshold 0.7 is 0.5232133883900286\n",
      "Score for threshold 0.71 is 0.5225142557514584\n",
      "Score for threshold 0.72 is 0.5174236962268686\n",
      "Score for threshold 0.73 is 0.5169211946428962\n",
      "Score for threshold 0.74 is 0.5168556509580302\n",
      "Score for threshold 0.75 is 0.5168556509580302\n",
      "Score for threshold 0.76 is 0.5087282340346507\n",
      "Score for threshold 0.77 is 0.5085971466649188\n",
      "Score for threshold 0.78 is 0.5070240982281358\n",
      "Score for threshold 0.79 is 0.5069585545432698\n",
      "Score for threshold 0.8 is 0.5069585545432698\n",
      "Score for threshold 0.81 is 0.5031133250311333\n",
      "Score for threshold 0.82 is 0.5027419108168928\n",
      "Score for threshold 0.83 is 0.5027200629219375\n",
      "Score for threshold 0.84 is 0.5011033186952437\n",
      "Score for threshold 0.85 is 0.5009503834305564\n",
      "Score for threshold 0.86 is 0.5004260339516288\n",
      "Score for threshold 0.87 is 0.5003604902667628\n",
      "Score for threshold 0.88 is 0.500098315527299\n",
      "Score for threshold 0.89 is 0.4999453802626117\n",
      "Score for threshold 0.9 is 0.4999453802626117\n",
      "Score for threshold 0.91 is 0.49981429289287976\n",
      "Score for threshold 0.92 is 0.49981429289287976\n",
      "Score for threshold 0.93 is 0.4997487492080138\n",
      "Score for threshold 0.94 is 0.4997487492080138\n",
      "Score for threshold 0.95 is 0.49972690131305847\n",
      "Score for threshold 0.96 is 0.49972690131305847\n",
      "Score for threshold 0.97 is 0.49972690131305847\n",
      "Score for threshold 0.98 is 0.49972690131305847\n",
      "Score for threshold 0.99 is 0.49972690131305847\n"
     ]
    }
   ],
   "source": [
    "scores = []\n",
    "\n",
    "for thresh in [i/100 for i in range(5, 100)]:\n",
    "    count = 0\n",
    "    for row in train_df.iterrows():\n",
    "        if rule_based_classifier(row[1], thresh) == oracle_eval(row[1]):\n",
    "            count += 1\n",
    "    print(\"Score for threshold\", thresh, \"is\", count/len(train_df))\n",
    "    scores.append([thresh, count/len(train_df)])"
   ]
  },
  {
   "cell_type": "markdown",
   "metadata": {},
   "source": [
    "Validate threshold"
   ]
  },
  {
   "cell_type": "code",
   "execution_count": 94,
   "metadata": {},
   "outputs": [
    {
     "name": "stdout",
     "output_type": "stream",
     "text": [
      "Validation accuracy: 0.7286704853783539\n",
      "Train accuracy: 0.7206746629962203\n"
     ]
    }
   ],
   "source": [
    "best_thresh, train_acc = scores[np.array(scores).argmax(0)[1]]\n",
    "count = 0\n",
    "for row in val_df.iterrows():\n",
    "    if rule_based_classifier(row[1], best_thresh) == oracle_eval(row[1]):\n",
    "        count += 1\n",
    "print(f\"Validation accuracy: {count/len(val_df)}\")\n",
    "print(f\"Train accuracy: {train_acc}\")"
   ]
  }
 ],
 "metadata": {
  "kernelspec": {
   "display_name": "Python 3",
   "language": "python",
   "name": "python3"
  },
  "language_info": {
   "codemirror_mode": {
    "name": "ipython",
    "version": 3
   },
   "file_extension": ".py",
   "mimetype": "text/x-python",
   "name": "python",
   "nbconvert_exporter": "python",
   "pygments_lexer": "ipython3",
   "version": "3.9.18"
  },
  "orig_nbformat": 4
 },
 "nbformat": 4,
 "nbformat_minor": 2
}
