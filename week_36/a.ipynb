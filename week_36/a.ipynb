{
 "cells": [
  {
   "cell_type": "code",
   "execution_count": 1,
   "metadata": {},
   "outputs": [],
   "source": [
    "from datasets import load_dataset"
   ]
  },
  {
   "cell_type": "code",
   "execution_count": 2,
   "metadata": {},
   "outputs": [],
   "source": [
    "# Load the copenlu/answerable_tydiqa dataset\n",
    "dataset = load_dataset(\"copenlu/answerable_tydiqa\")\n",
    "\n",
    "train_df = dataset['train'].to_pandas()\n",
    "train_df = train_df[train_df['language'].isin(['indonesian', 'arabic', 'bengali'])]\n",
    "\n",
    "val_df = dataset['validation'].to_pandas()\n",
    "val_df = val_df[val_df['language'].isin(['indonesian', 'arabic', 'bengali'])]"
   ]
  },
  {
   "cell_type": "code",
   "execution_count": 3,
   "metadata": {},
   "outputs": [],
   "source": [
    "import Preprocessor as p\n",
    "\n",
    "preprocessor = p.DataFramePreprocessor(train_df)"
   ]
  },
  {
   "cell_type": "code",
   "execution_count": 7,
   "metadata": {},
   "outputs": [
    {
     "name": "stdout",
     "output_type": "stream",
     "text": [
      "['المسألة', 'الشرقية', 'بالإنجليزية', 'Eastern', 'Question', 'بالفرنسية', 'Question', 'de', \"l'orient\", 'هي', 'مسألة', 'وجود', 'العثمانيين', 'المسلمين', 'في', 'أوروبا', 'وطردهم', 'منها', 'واستعادة', 'القسطنطينية', 'من', 'العثمانيين', 'بعد', 'سقوطها', 'في', '1453', 'وتهديد', 'مصالح', 'الدول', 'الأوروبية', 'في', 'هذه', 'المنطقة', 'كما', 'يدل', 'المصطلح', 'على', 'تصفية', 'أملاك', 'رجل', 'أوروبا', 'المريض', 'في', 'البلقان', 'من', 'طرف', 'الدول', 'الأوروبية']\n",
      "['Ernest', 'Douwes', 'Dekker', 'wafat', 'dini', 'hari', 'tanggal', '28', 'Agustus', '1950', 'tertulis', 'di', 'batu', 'nisannya', '29', 'Agustus', '1950', 'versi', 'van', 'der', 'Veur', '2006', 'dan', 'dimakamkan', 'di', 'TMP', 'Cikutra', 'Bandung']\n",
      "['بيت', 'لحم', 'بالسريانية', 'ܒܝܬ', 'ܠܚܡ', '؛', 'باليونانية', 'Βηθλεὲμ', '؛', 'باللاتينية', 'Bethleem', 'هي', 'مدينة', 'فلسطينية،', 'ومركز', 'محافظة', 'بيت', 'لحم', 'تقع', 'في', 'الضفة', 'الغربية', 'التابعة', 'للسلطة', 'الفلسطينية', 'على', 'بعد', '10', 'كم', 'إلى', 'الجنوب', 'من', 'القدس', 'يبلغ', 'عدد', 'سكانها', '30000', 'نسمة', 'بدون', 'سكان', 'مخيمات', 'اللاجئين', 'وتعتبر', 'مركزاً', 'للثقافة', 'والسياحة', 'في', 'فلسطين[1][2][3][4]']\n",
      "['Pada', 'tanggal', '18', 'Februari', '2008', 'desain', 'Yoo', 'Kerl', 'dari', 'iArc', 'terpilih', 'dalam', 'kompetisi', 'desain', 'Pemerintah', 'Metropolitan', 'Seoul[6]', 'Bagian', 'atas', 'depan', 'bangunan', 'baru', 'ini', 'dirancang', 'untuk', 'menonjol', 'dalam', 'bentuk', 'lengkung', 'Perancang', 'Yoo', 'merangkul', 'tiga', 'kata', 'kunci', 'yakni', '\"tradisi', 'warga', 'negara', 'dan', 'masa', 'depan\"', 'dalam', 'rancangannya', 'yang', 'mencerminkan', 'elemen', 'horisontal', 'dari', 'arsitektur', 'tradisional', 'tingkat', 'rendah', 'Korea', 'dan', 'penafsiran', 'ulang', 'dari', 'nuansa', 'mendalam', 'dan', 'lekukan', 'atap', 'atap[7]']\n",
      "['الإخوان', 'المسلمون', 'في', 'سوريا', 'أسسها', 'طلاب', 'في', 'ثلاثينيات', 'القرن', 'العشرين', 'وهي', 'تعرف', 'نفسها', 'بأنها', 'جزء', 'من', 'جماعة', 'الإخوان', 'المسلمين', 'في', 'العالم', 'التي', 'أسسها', 'حسن', 'البنا', 'في', 'مصر', 'عام', '1928', 'م', 'تعرض', 'الإخوان', 'المسلمون', 'في', 'سوريا', 'مطلع', 'ثمانينيات', 'القرن', 'العشرين', 'لحملات', 'قمع', 'دامية', 'من', 'قبل', 'نظام', 'حزب', 'البعث', 'أوقعت', 'آلاف', 'القتلى', 'خاصة', 'في', 'مدينة', 'حماة', 'فيما', 'عُرف', 'بمجزرة', 'حماة،', 'وكان', 'أول', 'مراقب', 'لها', 'في', 'سوريا', 'مصطفى', 'السباعي', 'بين', 'عامي', '1945', 'و1964،', 'وينتشرون', 'في', 'مدن', 'حلب', 'حماة', 'وحمص', 'ودمشق[1]']\n",
      "['نشأت', 'الدعوة', 'السلفية', 'بالإسكندرية', 'في', 'سبعينيات', 'القرن', 'الماضي', 'بين', 'عامي', '1972', '-', '1977', 'على', 'أيدي', 'مجموعة', 'من', 'الطلبة', 'المتدينين،', 'كان', 'أبرزهم', 'محمد', 'إسماعيل', 'المقدم،', 'وأحمد', 'فريد،', 'وسعيد', 'عبد', 'العظيم،', 'ومحمد', 'عبد', 'الفتاح', 'أبو', 'ادريس،', 'ثم', 'ياسر', 'برهامي', 'وأحمد', 'حطيبة', 'فيما', 'بعد،', 'التقوا', 'جميعاً', 'في', 'كلية', 'الطب', 'بجامعة', 'الإسكندرية،', 'إذ', 'كانوا', 'منضوين', 'في', 'تيار', 'الجماعة', 'الإسلامية', 'الذي', 'كان', 'معروفاً', 'في', 'الجامعات', 'المصرية', 'في', 'السبعينيات', 'أو', 'ما', 'عرف', 'ب<b', 'data-parsoid=\\'{\"dsr\"[278802791533]}\\'>ـالفترة', 'الذهبية', 'للعمل', 'الطلابي', 'في', 'مصر']\n",
      "['كلينتون', 'ريتشارد', 'دوكينز', 'عالمُ', 'سلوك', 'حيوان', '،', 'و', 'عالم', 'أحياء', 'تطوري', '،', 'و', 'كاتب', 'دوكينز', 'زميلٌ', 'فخريٌّ', 'للكلية', 'الجديدة', 'في', 'أوكسفورد،', 'و', 'أستاذ', 'الفهم', 'العام', 'للعلوم', 'منذ', '1995', 'حتى', 'عام', '2008', 'يحمل', 'دوكينز', 'زمالة', 'الجمعية', 'الملكية،', 'و', 'هو', 'زميل', 'الجمعية', 'الملكية', 'للأدب']\n",
      "['তারপর', 'উক্ত', '৮জনের', 'সাথে', 'আরো', 'কয়েকজনকে', 'একত্র', 'করে', '২০', 'জনের', 'একটি', 'গেরিলা', 'দল', 'গঠন', 'করে', 'তাদের', 'ভারতে', 'বিশেষ', 'ট্রেনিং', 'দেয়া', 'হয়।', 'তারপর', 'তারা', 'দেশে', 'আসলে', 'তাদের', 'সাথে', 'কর্নেল', 'ওসমানীর', 'দেখা', 'করানো', 'হয়।', 'তখন', 'ওসমানী', 'নৌ-কমান্ডো', 'বাহিনী', 'গঠনের', 'সিদ্ধান্ত', 'নেন।']\n",
      "['Sebagai', 'tindak', 'lanjut', 'Atlantic', 'Charter', 'tersebut', 'pada', 'tanggal', '25', 'April', '1945', 'Konferensi', 'PBB', 'tentang', 'Organisasi', 'Internasional', 'diadakan', 'di', 'San', 'Francisco', 'dengan', 'dihadiri', 'oleh', '50', 'pemerintah', 'negara', 'dan', 'sejumlah', 'organisasi', 'non-pemerintah', 'yang', 'terlibat', 'dalam', 'penyusunan', 'Piagam', 'Perserikatan', 'Bangsa-Bangsa', 'Declaration', 'of', 'the', 'United', 'Nations', 'PBB', 'resmi', 'dibentuk', 'pada', '24', 'Oktober', '1945', 'atas', 'ratifikasi', 'Piagam', 'oleh', 'lima', 'anggota', 'tetap', 'Dewan', 'Keamanan', '-Perancis', 'Republik', 'Tiongkok', 'Uni', 'Soviet', 'Inggris', 'dan', 'Amerika', 'Serikat-', 'dan', 'mayoritas', 'dari', '46', 'negara', 'anggota', 'lainnya']\n"
     ]
    }
   ],
   "source": [
    "for i in preprocessor.df['tokens'].iloc[1:10]:\n",
    "    print(i)"
   ]
  }
 ],
 "metadata": {
  "kernelspec": {
   "display_name": "Python 3",
   "language": "python",
   "name": "python3"
  },
  "language_info": {
   "codemirror_mode": {
    "name": "ipython",
    "version": 3
   },
   "file_extension": ".py",
   "mimetype": "text/x-python",
   "name": "python",
   "nbconvert_exporter": "python",
   "pygments_lexer": "ipython3",
   "version": "3.9.7"
  },
  "orig_nbformat": 4
 },
 "nbformat": 4,
 "nbformat_minor": 2
}
