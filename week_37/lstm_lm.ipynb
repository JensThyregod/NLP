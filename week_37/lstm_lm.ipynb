{
  "cells": [
    {
      "cell_type": "markdown",
      "source": [
        "#### Installs"
      ],
      "metadata": {
        "id": "8M_lp_mIbp0E"
      }
    },
    {
      "cell_type": "code",
      "source": [
        "!pip install bpemb"
      ],
      "metadata": {
        "colab": {
          "base_uri": "https://localhost:8080/"
        },
        "id": "mrD90-PSsBgh",
        "outputId": "a3ee906f-66e1-47d9-9368-a03cb6020e79"
      },
      "execution_count": 5,
      "outputs": [
        {
          "output_type": "stream",
          "name": "stdout",
          "text": [
            "Requirement already satisfied: bpemb in /usr/local/lib/python3.10/dist-packages (0.3.4)\n",
            "Requirement already satisfied: gensim in /usr/local/lib/python3.10/dist-packages (from bpemb) (4.3.2)\n",
            "Requirement already satisfied: numpy in /usr/local/lib/python3.10/dist-packages (from bpemb) (1.23.5)\n",
            "Requirement already satisfied: requests in /usr/local/lib/python3.10/dist-packages (from bpemb) (2.31.0)\n",
            "Requirement already satisfied: sentencepiece in /usr/local/lib/python3.10/dist-packages (from bpemb) (0.1.99)\n",
            "Requirement already satisfied: tqdm in /usr/local/lib/python3.10/dist-packages (from bpemb) (4.66.1)\n",
            "Requirement already satisfied: scipy>=1.7.0 in /usr/local/lib/python3.10/dist-packages (from gensim->bpemb) (1.11.3)\n",
            "Requirement already satisfied: smart-open>=1.8.1 in /usr/local/lib/python3.10/dist-packages (from gensim->bpemb) (6.4.0)\n",
            "Requirement already satisfied: charset-normalizer<4,>=2 in /usr/local/lib/python3.10/dist-packages (from requests->bpemb) (3.3.1)\n",
            "Requirement already satisfied: idna<4,>=2.5 in /usr/local/lib/python3.10/dist-packages (from requests->bpemb) (3.4)\n",
            "Requirement already satisfied: urllib3<3,>=1.21.1 in /usr/local/lib/python3.10/dist-packages (from requests->bpemb) (2.0.7)\n",
            "Requirement already satisfied: certifi>=2017.4.17 in /usr/local/lib/python3.10/dist-packages (from requests->bpemb) (2023.7.22)\n"
          ]
        }
      ]
    },
    {
      "cell_type": "markdown",
      "metadata": {
        "id": "fZpjpKGssASU"
      },
      "source": [
        "#### Imports"
      ]
    },
    {
      "cell_type": "code",
      "execution_count": 6,
      "metadata": {
        "colab": {
          "base_uri": "https://localhost:8080/"
        },
        "id": "5P70WN7asASY",
        "outputId": "886d9a76-c54b-463b-cc51-14f758e8ac54"
      },
      "outputs": [
        {
          "output_type": "stream",
          "name": "stdout",
          "text": [
            "cuda\n"
          ]
        }
      ],
      "source": [
        "# Imports\n",
        "import os\n",
        "import torch\n",
        "import torch.nn as nn\n",
        "import torch.optim as optim\n",
        "from torch.utils.data import Dataset, DataLoader\n",
        "import pandas as pd\n",
        "import math\n",
        "import functools as ft\n",
        "import operator\n",
        "from bpemb import BPEmb\n",
        "\n",
        "from tqdm import tqdm\n",
        "\n",
        "# Use GPU if possible\n",
        "device = torch.device('cuda' if torch.cuda.is_available() else 'cpu')\n",
        "print(device)\n",
        "\n",
        "seed = 1\n",
        "torch.manual_seed(seed)\n",
        "torch.cuda.manual_seed_all(seed)\n",
        "torch.backends.cudnn.deterministic = True\n",
        "torch.backends.cudnn.benchmark = False"
      ]
    },
    {
      "cell_type": "markdown",
      "metadata": {
        "id": "iP31dKCisASc"
      },
      "source": [
        "#### Data"
      ]
    },
    {
      "cell_type": "code",
      "execution_count": 10,
      "metadata": {
        "id": "pTTI8QPasASd"
      },
      "outputs": [],
      "source": [
        "# Load dataset\n",
        "train_df = pd.read_csv('train_data.csv')\n",
        "val_df = pd.read_csv('train_data.csv')\n",
        "\n",
        "# divide data set\n",
        "train_arab = train_df[train_df['language'] == 'arabic']\n",
        "train_indo = train_df[train_df['language'] == 'indonesian']\n",
        "train_beng = train_df[train_df['language'] == 'bengali']\n",
        "\n",
        "val_arab = val_df[val_df['language'] == 'arabic']\n",
        "val_indo = val_df[val_df['language'] == 'indonesian']\n",
        "val_beng = val_df[val_df['language'] == 'bengali']"
      ]
    },
    {
      "cell_type": "code",
      "execution_count": 11,
      "metadata": {
        "colab": {
          "base_uri": "https://localhost:8080/"
        },
        "id": "TtSpf9SfsASe",
        "outputId": "d18ebc7f-5b38-40ac-88f9-d96461579789"
      },
      "outputs": [
        {
          "output_type": "stream",
          "name": "stdout",
          "text": [
            "downloading https://nlp.h-its.org/bpemb/en/en.wiki.bpe.vs10000.model\n"
          ]
        },
        {
          "output_type": "stream",
          "name": "stderr",
          "text": [
            "100%|██████████| 400869/400869 [00:00<00:00, 734715.89B/s]\n"
          ]
        },
        {
          "output_type": "stream",
          "name": "stdout",
          "text": [
            "downloading https://nlp.h-its.org/bpemb/en/en.wiki.bpe.vs10000.d50.w2v.bin.tar.gz\n"
          ]
        },
        {
          "output_type": "stream",
          "name": "stderr",
          "text": [
            "100%|██████████| 1924908/1924908 [00:00<00:00, 2828009.13B/s]\n"
          ]
        },
        {
          "output_type": "stream",
          "name": "stdout",
          "text": [
            "downloading https://nlp.h-its.org/bpemb/bn/bn.wiki.bpe.vs10000.model\n"
          ]
        },
        {
          "output_type": "stream",
          "name": "stderr",
          "text": [
            "100%|██████████| 471203/471203 [00:00<00:00, 1053434.02B/s]\n"
          ]
        },
        {
          "output_type": "stream",
          "name": "stdout",
          "text": [
            "downloading https://nlp.h-its.org/bpemb/bn/bn.wiki.bpe.vs10000.d50.w2v.bin.tar.gz\n"
          ]
        },
        {
          "output_type": "stream",
          "name": "stderr",
          "text": [
            "100%|██████████| 1933584/1933584 [00:00<00:00, 2489166.84B/s]\n"
          ]
        },
        {
          "output_type": "stream",
          "name": "stdout",
          "text": [
            "downloading https://nlp.h-its.org/bpemb/ar/ar.wiki.bpe.vs10000.model\n"
          ]
        },
        {
          "output_type": "stream",
          "name": "stderr",
          "text": [
            "100%|██████████| 428120/428120 [00:00<00:00, 953816.50B/s]\n"
          ]
        },
        {
          "output_type": "stream",
          "name": "stdout",
          "text": [
            "downloading https://nlp.h-its.org/bpemb/ar/ar.wiki.bpe.vs10000.d50.w2v.bin.tar.gz\n"
          ]
        },
        {
          "output_type": "stream",
          "name": "stderr",
          "text": [
            "100%|██████████| 1928527/1928527 [00:00<00:00, 2848987.60B/s]\n"
          ]
        },
        {
          "output_type": "stream",
          "name": "stdout",
          "text": [
            "downloading https://nlp.h-its.org/bpemb/id/id.wiki.bpe.vs10000.model\n"
          ]
        },
        {
          "output_type": "stream",
          "name": "stderr",
          "text": [
            "100%|██████████| 396303/396303 [00:00<00:00, 880045.18B/s]\n"
          ]
        },
        {
          "output_type": "stream",
          "name": "stdout",
          "text": [
            "downloading https://nlp.h-its.org/bpemb/id/id.wiki.bpe.vs10000.d50.w2v.bin.tar.gz\n"
          ]
        },
        {
          "output_type": "stream",
          "name": "stderr",
          "text": [
            "100%|██████████| 1920574/1920574 [00:00<00:00, 2822384.21B/s]\n"
          ]
        }
      ],
      "source": [
        "vocab_size = 10000\n",
        "embedding_dim = 50\n",
        "\n",
        "bpemb_en = BPEmb(lang=\"en\", dim=embedding_dim, vs=vocab_size) # English (for testing)\n",
        "bpemb_bn = BPEmb(lang=\"bn\", dim=embedding_dim, vs=vocab_size) # Bengali\n",
        "bpemb_ar = BPEmb(lang=\"ar\", dim=embedding_dim, vs=vocab_size) # Arabic\n",
        "bpemb_id = BPEmb(lang=\"id\", dim=embedding_dim, vs=vocab_size) # Indonesian\n",
        "\n",
        "\n",
        "embeddings_ar = bpemb_ar.emb.vectors\n",
        "embeddings_bn = bpemb_bn.emb.vectors\n",
        "embeddings_id = bpemb_id.emb.vectors"
      ]
    },
    {
      "cell_type": "markdown",
      "metadata": {
        "id": "kwf78qbFsASe"
      },
      "source": [
        "#### Data loader"
      ]
    },
    {
      "cell_type": "code",
      "execution_count": 12,
      "metadata": {
        "id": "B_6_7XDssASf"
      },
      "outputs": [],
      "source": [
        "def get_batch(data, seq_len, num_batches, idx):\n",
        "    \"\"\"\n",
        "    given the index of the first batch of tokens in the batch returns the\n",
        "    corresponding batch of sequences.\n",
        "\n",
        "    data: in [batch size, num_batches] format\n",
        "    seq_len: length of sequence\n",
        "    idx: index\n",
        "\n",
        "    returns: input and targets of the LSTM\n",
        "    \"\"\"\n",
        "    src = data[:, idx:idx+seq_len]        #\n",
        "    target = data[:, idx+1:idx+seq_len+1] # next words\n",
        "    return src, target\n",
        "\n",
        "# define dataloader\n",
        "def get_data(dataset: list, vocab, batch_size):\n",
        "    \"\"\"\n",
        "    dataset: pandas series\n",
        "    vocab: bpemb entity\n",
        "    batch_size: size of batch\n",
        "    \"\"\"\n",
        "    encoded = vocab.encode_ids_with_bos_eos(dataset.values)\n",
        "    flat = ft.reduce(operator.iconcat, encoded, [])\n",
        "    data = torch.tensor(flat)\n",
        "    num_batches = data.shape[0] // batch_size\n",
        "    data = data[:num_batches * batch_size] # remove modulus (leftovers)\n",
        "    data = data.view(batch_size, num_batches)\n",
        "    return data\n"
      ]
    },
    {
      "cell_type": "markdown",
      "metadata": {
        "id": "Wm_pUpJNsASf"
      },
      "source": [
        "#### Define model"
      ]
    },
    {
      "cell_type": "code",
      "execution_count": 13,
      "metadata": {
        "id": "qLcMACp9sASf"
      },
      "outputs": [],
      "source": [
        "# Define LSTM model\n",
        "class LSTM(nn.Module):\n",
        "    def __init__(self, hidden_dim: int, lstm_layers: int,\n",
        "                 dropout_rate: float, tie_weights: bool, vocab):\n",
        "\n",
        "        super().__init__()\n",
        "        self.hidden_dim = hidden_dim\n",
        "        self.vocab_size = vocab.vectors.shape[0]\n",
        "        self.embedding_dim = vocab.vectors.shape[1]\n",
        "        self.num_layers = lstm_layers\n",
        "\n",
        "        self.model = nn.ModuleDict({\n",
        "            'embeddings': nn.Embedding.from_pretrained(torch.tensor(vocab.vectors)),\n",
        "            'lstm': nn.LSTM(\n",
        "                self.embedding_dim,\n",
        "                hidden_dim,\n",
        "                lstm_layers,\n",
        "                batch_first=True,\n",
        "                dropout=dropout_rate,\n",
        "                bidirectional=False),\n",
        "            'fc': nn.Linear(hidden_dim, vocab_size)\n",
        "        })\n",
        "        self.dropout = nn.Dropout(p=dropout_rate)\n",
        "\n",
        "        if tie_weights:\n",
        "            assert embedding_dim == hidden_dim, 'cannot tie, check dims'\n",
        "            self.embedding.weight = self.fc.weight\n",
        "\n",
        "        self._init_weights()\n",
        "\n",
        "    def _init_weights(self):\n",
        "        all_params = list(self.model['lstm'].named_parameters()) + \\\n",
        "                     list(self.model['fc'].named_parameters())\n",
        "        for n,p in all_params:\n",
        "            if 'weight' in n:\n",
        "                nn.init.xavier_normal_(p)\n",
        "            elif 'bias' in n:\n",
        "                nn.init.zeros_(p)\n",
        "\n",
        "    def init_hidden(self, batch_size, device):\n",
        "        hidden = torch.zeros(self.num_layers, batch_size, self.hidden_dim).to(device)\n",
        "        cell = torch.zeros(self.num_layers, batch_size, self.hidden_dim).to(device)\n",
        "        return hidden, cell\n",
        "\n",
        "    def detach_hidden(self, hidden):\n",
        "        hidden, cell = hidden\n",
        "        hidden = hidden.detach()\n",
        "        cell = cell.detach()\n",
        "        return hidden, cell\n",
        "\n",
        "    def forward(self, src, hidden):\n",
        "        embeds = self.model['embeddings'](src)\n",
        "        lstm_out, hidden = self.model['lstm'](embeds)\n",
        "        fc_in = self.dropout(lstm_out)\n",
        "        logits = self.model['fc'](fc_in)\n",
        "\n",
        "        return logits, hidden"
      ]
    },
    {
      "cell_type": "markdown",
      "metadata": {
        "id": "HLWFRMMDsASg"
      },
      "source": [
        "#### Define training"
      ]
    },
    {
      "cell_type": "code",
      "execution_count": 14,
      "metadata": {
        "id": "-yGqpExSsASg"
      },
      "outputs": [],
      "source": [
        "# Train loop\n",
        "def train(model, data, optimizer, criterion, batch_size, seq_len, clip, device):\n",
        "\n",
        "    epoch_loss = 0\n",
        "    model.train() # training mode - dropout not disabled\n",
        "    # drop all batches that are not a multiple of seq_len\n",
        "    num_batches = data.shape[-1]\n",
        "    data = data[:, :num_batches - (num_batches -1) % seq_len]\n",
        "    num_batches = data.shape[-1]\n",
        "\n",
        "    hidden = model.init_hidden(batch_size, device)\n",
        "\n",
        "    # The last batch can't be a src\n",
        "    for idx in tqdm(range(0, num_batches - 1, seq_len), desc='Training: ',leave=False):\n",
        "        optimizer.zero_grad()\n",
        "        hidden = model.detach_hidden(hidden)\n",
        "\n",
        "        src, target = get_batch(data, seq_len, num_batches, idx)\n",
        "        src, target = src.to(device), target.to(device)\n",
        "        batch_size = src.shape[0]\n",
        "        prediction, hidden = model(src, hidden)\n",
        "        prediction = prediction.reshape(batch_size * seq_len, -1)\n",
        "        target = target.reshape(-1)\n",
        "        loss = criterion(prediction, target)\n",
        "\n",
        "        loss.backward()\n",
        "        torch.nn.utils.clip_grad_norm_(model.parameters(), clip)\n",
        "        optimizer.step()\n",
        "        epoch_loss += loss.item() * seq_len\n",
        "    return epoch_loss / num_batches\n",
        "\n"
      ]
    },
    {
      "cell_type": "markdown",
      "metadata": {
        "id": "cVdJEOSDsASg"
      },
      "source": [
        "#### Define evaluation"
      ]
    },
    {
      "cell_type": "code",
      "execution_count": 15,
      "metadata": {
        "id": "hlyPoC5ysASh"
      },
      "outputs": [],
      "source": [
        "def evaluate(model, data, criterion, batch_size, seq_len, device):\n",
        "\n",
        "    model.eval()\n",
        "    eval_loss = 0\n",
        "\n",
        "    num_batches = data.shape[-1]\n",
        "    data = data[:, :num_batches - (num_batches -1) % seq_len]\n",
        "    num_batches = data.shape[-1]\n",
        "\n",
        "    hidden = model.init_hidden(batch_size, device)\n",
        "\n",
        "    with torch.no_grad(): # we no longer need to backprop or keep track of gradients.\n",
        "        for idx in range(0, num_batches - 1, seq_len):\n",
        "            hidden = model.detach_hidden(hidden)\n",
        "            src, target = get_batch(data, seq_len, num_batches, idx)\n",
        "            src, target = src.to(device), target.to(device)\n",
        "            batch_size= src.shape[0]\n",
        "\n",
        "            prediction, hidden = model(src, hidden)\n",
        "            prediction = prediction.reshape(batch_size * seq_len, -1)\n",
        "            target = target.reshape(-1)\n",
        "\n",
        "            loss = criterion(prediction, target)\n",
        "            eval_loss += loss.item() * seq_len\n",
        "    return eval_loss / num_batches"
      ]
    },
    {
      "cell_type": "markdown",
      "metadata": {
        "id": "KRZerko7sASh"
      },
      "source": [
        "#### Hyperparameters"
      ]
    },
    {
      "cell_type": "code",
      "execution_count": 16,
      "metadata": {
        "id": "_wsQ55wnsASh"
      },
      "outputs": [],
      "source": [
        "# Model\n",
        "num_layers = 2\n",
        "dropout_rate = 0.1\n",
        "hidden_dim = 128\n",
        "tie_weights = True if embedding_dim == hidden_dim else False\n",
        "\n",
        "# Training\n",
        "lr = 1e-3\n",
        "batch_size = 64\n",
        "n_epochs = 10\n",
        "seq_len = 10\n",
        "clip = 0.25\n",
        "\n",
        "saved = False"
      ]
    },
    {
      "cell_type": "markdown",
      "metadata": {
        "id": "cVxgOIjIsASh"
      },
      "source": [
        "#### Train"
      ]
    },
    {
      "cell_type": "markdown",
      "source": [
        "##### Just one"
      ],
      "metadata": {
        "id": "t08bv9yMdhBE"
      }
    },
    {
      "cell_type": "code",
      "execution_count": 34,
      "metadata": {
        "colab": {
          "base_uri": "https://localhost:8080/"
        },
        "id": "GyqYHei_sASh",
        "outputId": "6b0171c6-0d46-4564-8ac4-204206b0a07b"
      },
      "outputs": [
        {
          "output_type": "stream",
          "name": "stderr",
          "text": []
        },
        {
          "output_type": "stream",
          "name": "stdout",
          "text": [
            "Epoch: 1\n",
            "\tTrain Perplexity: 548.751\n",
            "\tValid Perplexity: 298.709\n"
          ]
        },
        {
          "output_type": "stream",
          "name": "stderr",
          "text": []
        },
        {
          "output_type": "stream",
          "name": "stdout",
          "text": [
            "Epoch: 2\n",
            "\tTrain Perplexity: 135.745\n",
            "\tValid Perplexity: 90.718\n"
          ]
        },
        {
          "output_type": "stream",
          "name": "stderr",
          "text": []
        },
        {
          "output_type": "stream",
          "name": "stdout",
          "text": [
            "Epoch: 3\n",
            "\tTrain Perplexity: 77.664\n",
            "\tValid Perplexity: 60.403\n"
          ]
        },
        {
          "output_type": "stream",
          "name": "stderr",
          "text": []
        },
        {
          "output_type": "stream",
          "name": "stdout",
          "text": [
            "Epoch: 4\n",
            "\tTrain Perplexity: 56.159\n",
            "\tValid Perplexity: 45.857\n"
          ]
        },
        {
          "output_type": "stream",
          "name": "stderr",
          "text": []
        },
        {
          "output_type": "stream",
          "name": "stdout",
          "text": [
            "Epoch: 5\n",
            "\tTrain Perplexity: 44.825\n",
            "\tValid Perplexity: 37.479\n"
          ]
        },
        {
          "output_type": "stream",
          "name": "stderr",
          "text": []
        },
        {
          "output_type": "stream",
          "name": "stdout",
          "text": [
            "Epoch: 6\n",
            "\tTrain Perplexity: 37.729\n",
            "\tValid Perplexity: 32.018\n"
          ]
        },
        {
          "output_type": "stream",
          "name": "stderr",
          "text": []
        },
        {
          "output_type": "stream",
          "name": "stdout",
          "text": [
            "Epoch: 7\n",
            "\tTrain Perplexity: 32.864\n",
            "\tValid Perplexity: 28.155\n"
          ]
        },
        {
          "output_type": "stream",
          "name": "stderr",
          "text": []
        },
        {
          "output_type": "stream",
          "name": "stdout",
          "text": [
            "Epoch: 8\n",
            "\tTrain Perplexity: 29.320\n",
            "\tValid Perplexity: 25.234\n"
          ]
        },
        {
          "output_type": "stream",
          "name": "stderr",
          "text": []
        },
        {
          "output_type": "stream",
          "name": "stdout",
          "text": [
            "Epoch: 9\n",
            "\tTrain Perplexity: 26.526\n",
            "\tValid Perplexity: 22.898\n"
          ]
        },
        {
          "output_type": "stream",
          "name": "stderr",
          "text": []
        },
        {
          "output_type": "stream",
          "name": "stdout",
          "text": [
            "Epoch: 10\n",
            "\tTrain Perplexity: 24.277\n",
            "\tValid Perplexity: 20.977\n",
            "\tFinal train Perplexity: 20.977\n"
          ]
        }
      ],
      "source": [
        "ln = 'arab'\n",
        "doc = 'question_text'\n",
        "vocab = bpemb_ar\n",
        "\n",
        "train_data = get_data(train_arab[doc], vocab, batch_size)\n",
        "val_data = get_data(val_arab[doc], vocab, batch_size)\n",
        "\n",
        "model = LSTM(hidden_dim, num_layers, dropout_rate, tie_weights, vocab).to(device)\n",
        "optimizer = optim.Adam(model.parameters(), lr=lr)\n",
        "criterion = nn.CrossEntropyLoss()\n",
        "\n",
        "# reduce learning rate as we go along\n",
        "lr_scheduler = optim.lr_scheduler.ReduceLROnPlateau(optimizer, factor=0.5, patience=0)\n",
        "\n",
        "best_valid_loss = float('inf')\n",
        "\n",
        "for epoch in range(n_epochs):\n",
        "\n",
        "    train_loss = train(model, train_data, optimizer, criterion,\n",
        "                batch_size, seq_len, clip, device)\n",
        "    valid_loss = evaluate(model, val_data, criterion, batch_size,\n",
        "                seq_len, device)\n",
        "\n",
        "    lr_scheduler.step(valid_loss)\n",
        "\n",
        "    if valid_loss < best_valid_loss:\n",
        "        best_valid_loss = valid_loss\n",
        "        name = 'best-val-'+ln+'-'+doc+'.pt'\n",
        "        torch.save(model.state_dict(), name)\n",
        "\n",
        "    print(f'Epoch: {epoch+1}')\n",
        "    print(f'\\tTrain Perplexity: {math.exp(train_loss):.3f}')\n",
        "    print(f'\\tValid Perplexity: {math.exp(valid_loss):.3f}')\n",
        "\n",
        "valid_loss = evaluate(model, train_data, criterion, batch_size,\n",
        "                seq_len, device)\n",
        "print(f'\\tFinal train Perplexity: {math.exp(valid_loss):.3f}')\n",
        "\n",
        ""
      ]
    },
    {
      "cell_type": "markdown",
      "metadata": {
        "id": "ctXplnPIsASi"
      },
      "source": [
        "#### Train all"
      ]
    },
    {
      "cell_type": "code",
      "execution_count": 17,
      "metadata": {
        "colab": {
          "base_uri": "https://localhost:8080/"
        },
        "id": "ux5ZvsD9sASi",
        "outputId": "df479c4d-7547-4eef-d868-77dd4e08f7e0"
      },
      "outputs": [
        {
          "output_type": "stream",
          "name": "stdout",
          "text": [
            "cuda\n",
            "Lanuage: arab\n",
            "Data: question_text\n"
          ]
        },
        {
          "output_type": "stream",
          "name": "stderr",
          "text": []
        },
        {
          "output_type": "stream",
          "name": "stdout",
          "text": [
            "Epoch: 1\n",
            "\tTrain Perplexity: 523.842\n",
            "\tValid Perplexity: 234.629\n"
          ]
        },
        {
          "output_type": "stream",
          "name": "stderr",
          "text": []
        },
        {
          "output_type": "stream",
          "name": "stdout",
          "text": [
            "Epoch: 2\n",
            "\tTrain Perplexity: 126.945\n",
            "\tValid Perplexity: 88.639\n"
          ]
        },
        {
          "output_type": "stream",
          "name": "stderr",
          "text": []
        },
        {
          "output_type": "stream",
          "name": "stdout",
          "text": [
            "Epoch: 3\n",
            "\tTrain Perplexity: 76.541\n",
            "\tValid Perplexity: 59.989\n"
          ]
        },
        {
          "output_type": "stream",
          "name": "stderr",
          "text": []
        },
        {
          "output_type": "stream",
          "name": "stdout",
          "text": [
            "Epoch: 4\n",
            "\tTrain Perplexity: 55.900\n",
            "\tValid Perplexity: 45.586\n"
          ]
        },
        {
          "output_type": "stream",
          "name": "stderr",
          "text": []
        },
        {
          "output_type": "stream",
          "name": "stdout",
          "text": [
            "Epoch: 5\n",
            "\tTrain Perplexity: 44.717\n",
            "\tValid Perplexity: 37.356\n"
          ]
        },
        {
          "output_type": "stream",
          "name": "stderr",
          "text": []
        },
        {
          "output_type": "stream",
          "name": "stdout",
          "text": [
            "Epoch: 6\n",
            "\tTrain Perplexity: 37.776\n",
            "\tValid Perplexity: 31.982\n"
          ]
        },
        {
          "output_type": "stream",
          "name": "stderr",
          "text": []
        },
        {
          "output_type": "stream",
          "name": "stdout",
          "text": [
            "Epoch: 7\n",
            "\tTrain Perplexity: 32.986\n",
            "\tValid Perplexity: 28.134\n"
          ]
        },
        {
          "output_type": "stream",
          "name": "stderr",
          "text": []
        },
        {
          "output_type": "stream",
          "name": "stdout",
          "text": [
            "Epoch: 8\n",
            "\tTrain Perplexity: 29.440\n",
            "\tValid Perplexity: 25.227\n"
          ]
        },
        {
          "output_type": "stream",
          "name": "stderr",
          "text": []
        },
        {
          "output_type": "stream",
          "name": "stdout",
          "text": [
            "Epoch: 9\n",
            "\tTrain Perplexity: 26.664\n",
            "\tValid Perplexity: 22.962\n"
          ]
        },
        {
          "output_type": "stream",
          "name": "stderr",
          "text": []
        },
        {
          "output_type": "stream",
          "name": "stdout",
          "text": [
            "Epoch: 10\n",
            "\tTrain Perplexity: 24.427\n",
            "\tValid Perplexity: 21.093\n",
            "\tFinal train Perplexity: 21.093\n",
            "Data: document_plaintext\n"
          ]
        },
        {
          "output_type": "stream",
          "name": "stderr",
          "text": []
        },
        {
          "output_type": "stream",
          "name": "stdout",
          "text": [
            "Epoch: 1\n",
            "\tTrain Perplexity: 692.741\n",
            "\tValid Perplexity: 394.302\n"
          ]
        },
        {
          "output_type": "stream",
          "name": "stderr",
          "text": []
        },
        {
          "output_type": "stream",
          "name": "stdout",
          "text": [
            "Epoch: 2\n",
            "\tTrain Perplexity: 362.856\n",
            "\tValid Perplexity: 288.728\n"
          ]
        },
        {
          "output_type": "stream",
          "name": "stderr",
          "text": []
        },
        {
          "output_type": "stream",
          "name": "stdout",
          "text": [
            "Epoch: 3\n",
            "\tTrain Perplexity: 299.675\n",
            "\tValid Perplexity: 245.869\n"
          ]
        },
        {
          "output_type": "stream",
          "name": "stderr",
          "text": []
        },
        {
          "output_type": "stream",
          "name": "stdout",
          "text": [
            "Epoch: 4\n",
            "\tTrain Perplexity: 269.542\n",
            "\tValid Perplexity: 222.321\n"
          ]
        },
        {
          "output_type": "stream",
          "name": "stderr",
          "text": []
        },
        {
          "output_type": "stream",
          "name": "stdout",
          "text": [
            "Epoch: 5\n",
            "\tTrain Perplexity: 251.610\n",
            "\tValid Perplexity: 207.185\n"
          ]
        },
        {
          "output_type": "stream",
          "name": "stderr",
          "text": []
        },
        {
          "output_type": "stream",
          "name": "stdout",
          "text": [
            "Epoch: 6\n",
            "\tTrain Perplexity: 239.657\n",
            "\tValid Perplexity: 196.380\n"
          ]
        },
        {
          "output_type": "stream",
          "name": "stderr",
          "text": []
        },
        {
          "output_type": "stream",
          "name": "stdout",
          "text": [
            "Epoch: 7\n",
            "\tTrain Perplexity: 231.189\n",
            "\tValid Perplexity: 188.626\n"
          ]
        },
        {
          "output_type": "stream",
          "name": "stderr",
          "text": []
        },
        {
          "output_type": "stream",
          "name": "stdout",
          "text": [
            "Epoch: 8\n",
            "\tTrain Perplexity: 224.515\n",
            "\tValid Perplexity: 182.706\n"
          ]
        },
        {
          "output_type": "stream",
          "name": "stderr",
          "text": []
        },
        {
          "output_type": "stream",
          "name": "stdout",
          "text": [
            "Epoch: 9\n",
            "\tTrain Perplexity: 219.442\n",
            "\tValid Perplexity: 177.842\n"
          ]
        },
        {
          "output_type": "stream",
          "name": "stderr",
          "text": []
        },
        {
          "output_type": "stream",
          "name": "stdout",
          "text": [
            "Epoch: 10\n",
            "\tTrain Perplexity: 215.232\n",
            "\tValid Perplexity: 173.845\n",
            "\tFinal train Perplexity: 173.845\n",
            "Lanuage: beng\n",
            "Data: question_text\n"
          ]
        },
        {
          "output_type": "stream",
          "name": "stderr",
          "text": []
        },
        {
          "output_type": "stream",
          "name": "stdout",
          "text": [
            "Epoch: 1\n",
            "\tTrain Perplexity: 1097.446\n",
            "\tValid Perplexity: 451.146\n"
          ]
        },
        {
          "output_type": "stream",
          "name": "stderr",
          "text": []
        },
        {
          "output_type": "stream",
          "name": "stdout",
          "text": [
            "Epoch: 2\n",
            "\tTrain Perplexity: 449.890\n",
            "\tValid Perplexity: 383.585\n"
          ]
        },
        {
          "output_type": "stream",
          "name": "stderr",
          "text": []
        },
        {
          "output_type": "stream",
          "name": "stdout",
          "text": [
            "Epoch: 3\n",
            "\tTrain Perplexity: 364.056\n",
            "\tValid Perplexity: 267.036\n"
          ]
        },
        {
          "output_type": "stream",
          "name": "stderr",
          "text": []
        },
        {
          "output_type": "stream",
          "name": "stdout",
          "text": [
            "Epoch: 4\n",
            "\tTrain Perplexity: 224.832\n",
            "\tValid Perplexity: 171.600\n"
          ]
        },
        {
          "output_type": "stream",
          "name": "stderr",
          "text": []
        },
        {
          "output_type": "stream",
          "name": "stdout",
          "text": [
            "Epoch: 5\n",
            "\tTrain Perplexity: 160.591\n",
            "\tValid Perplexity: 135.284\n"
          ]
        },
        {
          "output_type": "stream",
          "name": "stderr",
          "text": []
        },
        {
          "output_type": "stream",
          "name": "stdout",
          "text": [
            "Epoch: 6\n",
            "\tTrain Perplexity: 132.136\n",
            "\tValid Perplexity: 114.279\n"
          ]
        },
        {
          "output_type": "stream",
          "name": "stderr",
          "text": []
        },
        {
          "output_type": "stream",
          "name": "stdout",
          "text": [
            "Epoch: 7\n",
            "\tTrain Perplexity: 111.876\n",
            "\tValid Perplexity: 96.089\n"
          ]
        },
        {
          "output_type": "stream",
          "name": "stderr",
          "text": []
        },
        {
          "output_type": "stream",
          "name": "stdout",
          "text": [
            "Epoch: 8\n",
            "\tTrain Perplexity: 94.746\n",
            "\tValid Perplexity: 80.732\n"
          ]
        },
        {
          "output_type": "stream",
          "name": "stderr",
          "text": []
        },
        {
          "output_type": "stream",
          "name": "stdout",
          "text": [
            "Epoch: 9\n",
            "\tTrain Perplexity: 79.461\n",
            "\tValid Perplexity: 67.125\n"
          ]
        },
        {
          "output_type": "stream",
          "name": "stderr",
          "text": []
        },
        {
          "output_type": "stream",
          "name": "stdout",
          "text": [
            "Epoch: 10\n",
            "\tTrain Perplexity: 66.883\n",
            "\tValid Perplexity: 56.919\n",
            "\tFinal train Perplexity: 56.919\n",
            "Data: document_plaintext\n"
          ]
        },
        {
          "output_type": "stream",
          "name": "stderr",
          "text": []
        },
        {
          "output_type": "stream",
          "name": "stdout",
          "text": [
            "Epoch: 1\n",
            "\tTrain Perplexity: 1453.807\n",
            "\tValid Perplexity: 876.748\n"
          ]
        },
        {
          "output_type": "stream",
          "name": "stderr",
          "text": []
        },
        {
          "output_type": "stream",
          "name": "stdout",
          "text": [
            "Epoch: 2\n",
            "\tTrain Perplexity: 724.455\n",
            "\tValid Perplexity: 554.634\n"
          ]
        },
        {
          "output_type": "stream",
          "name": "stderr",
          "text": []
        },
        {
          "output_type": "stream",
          "name": "stdout",
          "text": [
            "Epoch: 3\n",
            "\tTrain Perplexity: 510.862\n",
            "\tValid Perplexity: 410.759\n"
          ]
        },
        {
          "output_type": "stream",
          "name": "stderr",
          "text": []
        },
        {
          "output_type": "stream",
          "name": "stdout",
          "text": [
            "Epoch: 4\n",
            "\tTrain Perplexity: 403.460\n",
            "\tValid Perplexity: 327.962\n"
          ]
        },
        {
          "output_type": "stream",
          "name": "stderr",
          "text": []
        },
        {
          "output_type": "stream",
          "name": "stdout",
          "text": [
            "Epoch: 5\n",
            "\tTrain Perplexity: 336.264\n",
            "\tValid Perplexity: 273.560\n"
          ]
        },
        {
          "output_type": "stream",
          "name": "stderr",
          "text": []
        },
        {
          "output_type": "stream",
          "name": "stdout",
          "text": [
            "Epoch: 6\n",
            "\tTrain Perplexity: 290.394\n",
            "\tValid Perplexity: 235.749\n"
          ]
        },
        {
          "output_type": "stream",
          "name": "stderr",
          "text": []
        },
        {
          "output_type": "stream",
          "name": "stdout",
          "text": [
            "Epoch: 7\n",
            "\tTrain Perplexity: 257.330\n",
            "\tValid Perplexity: 207.802\n"
          ]
        },
        {
          "output_type": "stream",
          "name": "stderr",
          "text": []
        },
        {
          "output_type": "stream",
          "name": "stdout",
          "text": [
            "Epoch: 8\n",
            "\tTrain Perplexity: 232.474\n",
            "\tValid Perplexity: 186.812\n"
          ]
        },
        {
          "output_type": "stream",
          "name": "stderr",
          "text": []
        },
        {
          "output_type": "stream",
          "name": "stdout",
          "text": [
            "Epoch: 9\n",
            "\tTrain Perplexity: 213.193\n",
            "\tValid Perplexity: 169.730\n"
          ]
        },
        {
          "output_type": "stream",
          "name": "stderr",
          "text": []
        },
        {
          "output_type": "stream",
          "name": "stdout",
          "text": [
            "Epoch: 10\n",
            "\tTrain Perplexity: 197.625\n",
            "\tValid Perplexity: 156.733\n",
            "\tFinal train Perplexity: 156.733\n",
            "Lanuage: indo\n",
            "Data: question_text\n"
          ]
        },
        {
          "output_type": "stream",
          "name": "stderr",
          "text": []
        },
        {
          "output_type": "stream",
          "name": "stdout",
          "text": [
            "Epoch: 1\n",
            "\tTrain Perplexity: 575.581\n",
            "\tValid Perplexity: 316.155\n"
          ]
        },
        {
          "output_type": "stream",
          "name": "stderr",
          "text": []
        },
        {
          "output_type": "stream",
          "name": "stdout",
          "text": [
            "Epoch: 2\n",
            "\tTrain Perplexity: 317.546\n",
            "\tValid Perplexity: 294.255\n"
          ]
        },
        {
          "output_type": "stream",
          "name": "stderr",
          "text": []
        },
        {
          "output_type": "stream",
          "name": "stdout",
          "text": [
            "Epoch: 3\n",
            "\tTrain Perplexity: 299.191\n",
            "\tValid Perplexity: 266.432\n"
          ]
        },
        {
          "output_type": "stream",
          "name": "stderr",
          "text": []
        },
        {
          "output_type": "stream",
          "name": "stdout",
          "text": [
            "Epoch: 4\n",
            "\tTrain Perplexity: 151.793\n",
            "\tValid Perplexity: 89.826\n"
          ]
        },
        {
          "output_type": "stream",
          "name": "stderr",
          "text": []
        },
        {
          "output_type": "stream",
          "name": "stdout",
          "text": [
            "Epoch: 5\n",
            "\tTrain Perplexity: 74.988\n",
            "\tValid Perplexity: 57.968\n"
          ]
        },
        {
          "output_type": "stream",
          "name": "stderr",
          "text": []
        },
        {
          "output_type": "stream",
          "name": "stdout",
          "text": [
            "Epoch: 6\n",
            "\tTrain Perplexity: 53.331\n",
            "\tValid Perplexity: 44.379\n"
          ]
        },
        {
          "output_type": "stream",
          "name": "stderr",
          "text": []
        },
        {
          "output_type": "stream",
          "name": "stdout",
          "text": [
            "Epoch: 7\n",
            "\tTrain Perplexity: 43.318\n",
            "\tValid Perplexity: 37.198\n"
          ]
        },
        {
          "output_type": "stream",
          "name": "stderr",
          "text": []
        },
        {
          "output_type": "stream",
          "name": "stdout",
          "text": [
            "Epoch: 8\n",
            "\tTrain Perplexity: 37.023\n",
            "\tValid Perplexity: 32.091\n"
          ]
        },
        {
          "output_type": "stream",
          "name": "stderr",
          "text": []
        },
        {
          "output_type": "stream",
          "name": "stdout",
          "text": [
            "Epoch: 9\n",
            "\tTrain Perplexity: 32.315\n",
            "\tValid Perplexity: 28.133\n"
          ]
        },
        {
          "output_type": "stream",
          "name": "stderr",
          "text": []
        },
        {
          "output_type": "stream",
          "name": "stdout",
          "text": [
            "Epoch: 10\n",
            "\tTrain Perplexity: 28.657\n",
            "\tValid Perplexity: 25.022\n",
            "\tFinal train Perplexity: 25.022\n",
            "Data: document_plaintext\n"
          ]
        },
        {
          "output_type": "stream",
          "name": "stderr",
          "text": []
        },
        {
          "output_type": "stream",
          "name": "stdout",
          "text": [
            "Epoch: 1\n",
            "\tTrain Perplexity: 1307.539\n",
            "\tValid Perplexity: 744.935\n"
          ]
        },
        {
          "output_type": "stream",
          "name": "stderr",
          "text": []
        },
        {
          "output_type": "stream",
          "name": "stdout",
          "text": [
            "Epoch: 2\n",
            "\tTrain Perplexity: 550.682\n",
            "\tValid Perplexity: 406.256\n"
          ]
        },
        {
          "output_type": "stream",
          "name": "stderr",
          "text": []
        },
        {
          "output_type": "stream",
          "name": "stdout",
          "text": [
            "Epoch: 3\n",
            "\tTrain Perplexity: 376.683\n",
            "\tValid Perplexity: 305.684\n"
          ]
        },
        {
          "output_type": "stream",
          "name": "stderr",
          "text": []
        },
        {
          "output_type": "stream",
          "name": "stdout",
          "text": [
            "Epoch: 4\n",
            "\tTrain Perplexity: 306.314\n",
            "\tValid Perplexity: 253.660\n"
          ]
        },
        {
          "output_type": "stream",
          "name": "stderr",
          "text": []
        },
        {
          "output_type": "stream",
          "name": "stdout",
          "text": [
            "Epoch: 5\n",
            "\tTrain Perplexity: 265.521\n",
            "\tValid Perplexity: 220.215\n"
          ]
        },
        {
          "output_type": "stream",
          "name": "stderr",
          "text": []
        },
        {
          "output_type": "stream",
          "name": "stdout",
          "text": [
            "Epoch: 6\n",
            "\tTrain Perplexity: 238.332\n",
            "\tValid Perplexity: 197.202\n"
          ]
        },
        {
          "output_type": "stream",
          "name": "stderr",
          "text": []
        },
        {
          "output_type": "stream",
          "name": "stdout",
          "text": [
            "Epoch: 7\n",
            "\tTrain Perplexity: 218.854\n",
            "\tValid Perplexity: 180.273\n"
          ]
        },
        {
          "output_type": "stream",
          "name": "stderr",
          "text": []
        },
        {
          "output_type": "stream",
          "name": "stdout",
          "text": [
            "Epoch: 8\n",
            "\tTrain Perplexity: 204.271\n",
            "\tValid Perplexity: 167.475\n"
          ]
        },
        {
          "output_type": "stream",
          "name": "stderr",
          "text": []
        },
        {
          "output_type": "stream",
          "name": "stdout",
          "text": [
            "Epoch: 9\n",
            "\tTrain Perplexity: 192.968\n",
            "\tValid Perplexity: 157.466\n"
          ]
        },
        {
          "output_type": "stream",
          "name": "stderr",
          "text": []
        },
        {
          "output_type": "stream",
          "name": "stdout",
          "text": [
            "Epoch: 10\n",
            "\tTrain Perplexity: 183.972\n",
            "\tValid Perplexity: 149.079\n",
            "\tFinal train Perplexity: 149.079\n"
          ]
        }
      ],
      "source": [
        "print(device)\n",
        "lang = [(bpemb_ar, train_arab, val_arab, 'arab'),\n",
        "        (bpemb_bn, train_beng, val_beng, 'beng'),\n",
        "        (bpemb_id, train_indo, val_indo, 'indo')]\n",
        "\n",
        "# Train and validate all 6 models\n",
        "for vocab, train_df, val_df, ln in lang:\n",
        "    print(f'Lanuage: {ln}')\n",
        "    for doc in ['question_text', 'document_plaintext']:\n",
        "        print(f'Data: {doc}')\n",
        "\n",
        "        train_data = get_data(train_df[doc], vocab, batch_size)\n",
        "        val_data = get_data(val_df[doc], vocab, batch_size)\n",
        "\n",
        "        model = LSTM(hidden_dim, num_layers, dropout_rate, tie_weights, vocab).to(device)\n",
        "        optimizer = optim.Adam(model.parameters(), lr=lr)\n",
        "        criterion = nn.CrossEntropyLoss()\n",
        "\n",
        "\n",
        "        # reduce learning rate as we go along\n",
        "        lr_scheduler = optim.lr_scheduler.ReduceLROnPlateau(optimizer, factor=0.5, patience=3)\n",
        "\n",
        "        if saved:\n",
        "            model.load_state_dict(torch.load('best-val-lstm_lm.pt',  map_location=device))\n",
        "            test_loss = evaluate(model, val_data, criterion, batch_size, seq_len, device)\n",
        "            print(f'Test Perplexity: {math.exp(test_loss):.3f}')\n",
        "        else:\n",
        "            best_valid_loss = float('inf')\n",
        "\n",
        "            for epoch in range(n_epochs):\n",
        "\n",
        "                train_loss = train(model, train_data, optimizer, criterion,\n",
        "                            batch_size, seq_len, clip, device)\n",
        "                valid_loss = evaluate(model, val_data, criterion, batch_size,\n",
        "                            seq_len, device)\n",
        "\n",
        "                lr_scheduler.step(valid_loss)\n",
        "\n",
        "                if valid_loss < best_valid_loss:\n",
        "                    best_valid_loss = valid_loss\n",
        "                    name = 'best-val-'+ln+'-'+doc+'.pt'\n",
        "                    torch.save(model.state_dict(), name)\n",
        "\n",
        "                print(f'Epoch: {epoch+1}')\n",
        "                print(f'\\tTrain Perplexity: {math.exp(train_loss):.3f}')\n",
        "                print(f'\\tValid Perplexity: {math.exp(valid_loss):.3f}')\n",
        "\n",
        "            valid_loss = evaluate(model, train_data, criterion, batch_size,\n",
        "                            seq_len, device)\n",
        "            print(f'\\tFinal train Perplexity: {math.exp(valid_loss):.3f}')\n",
        "\n",
        ""
      ]
    },
    {
      "cell_type": "markdown",
      "metadata": {
        "id": "cByIhnyCsASj"
      },
      "source": [
        "#### Next word generation"
      ]
    },
    {
      "cell_type": "markdown",
      "source": [
        "Evaluate next word genertaion, with top-k predictions.\n",
        "\n",
        "```\n",
        "For document/question in validation data set:\n",
        "    Based on <bos> token(s), guess first token/word\n",
        "    check \"correctness\" of prediction\n",
        "    for word/token in document/questios:\n",
        "        Based all previous words/tokens, guess the next word/token\n",
        "        check \"correctness\"\n",
        "\n",
        "Afterwards find accuracy of 1st word predictions, 2nd word predictions and so on.\n",
        "Limit this to e.g. 10 words/tokens.\n",
        "OBS: Some sentences might be shorter that 10 words/tokens\n",
        "\n",
        "\"Correctness\": Prediction is considered correct if either of top-k most likely words/tokens is correct.\n",
        "\n",
        "```\n",
        "\n"
      ],
      "metadata": {
        "id": "vJi2GCSexXJU"
      }
    },
    {
      "cell_type": "code",
      "source": [
        "def eval_word_gen(model, data, bpemb, doc, k, max_len):\n",
        "    hidden = model.init_hidden(batch_size, device)\n",
        "\n",
        "    # results for each row in the dataframe gets collected here\n",
        "    row_results = []\n",
        "    for row in tqdm(data[doc], desc='Evaluating: '):\n",
        "\n",
        "        # data encoded as ids\n",
        "        sentence = bpemb.encode_ids_with_bos_eos(row)\n",
        "\n",
        "        # Collects resutls. Will be a list of True/False values\n",
        "        word_results = []\n",
        "\n",
        "        # Be careful of sentences shorter than max_len\n",
        "        for i in range(1, min(max_len+1, len(sentence))):\n",
        "            src = torch.LongTensor([sentence[:i]]).to(device)\n",
        "\n",
        "            # prediction\n",
        "            preds, _ = model(src, hidden)\n",
        "\n",
        "            pred = preds[:,-1]\n",
        "\n",
        "            # get as probabilities (not necessary, unless we want to sample the answer from a multinomial)\n",
        "            pred = torch.softmax(pred, dim=1)\n",
        "\n",
        "            # find index of top k predictions\n",
        "            _, ids = torch.topk(pred, k)\n",
        "\n",
        "            # if the true index is in the list of top k predictions, we count it as correct\n",
        "            word_results.append(sentence[i] in ids)\n",
        "        row_results.append(word_results)\n",
        "    return row_results\n",
        "\n",
        "def compute_performance(results, max_len):\n",
        "    # not all lists are necessarily max_len\n",
        "    correct = torch.zeros(max_len)\n",
        "    counter = torch.zeros(max_len)\n",
        "    for res in results:\n",
        "        for i, val in enumerate(res):\n",
        "            # Count correct for each index\n",
        "            correct[i] += val\n",
        "            counter[i] += 1\n",
        "    return correct / counter\n",
        "\n"
      ],
      "metadata": {
        "id": "QVCKDqygyzO7"
      },
      "execution_count": 18,
      "outputs": []
    },
    {
      "cell_type": "markdown",
      "source": [],
      "metadata": {
        "id": "kGl8PzV3cFaA"
      }
    },
    {
      "cell_type": "code",
      "source": [
        "k=3\n",
        "max_len=10\n",
        "\n",
        "lang = [(bpemb_ar, val_arab, 'arab'),\n",
        "        (bpemb_bn, val_beng, 'beng'),\n",
        "        (bpemb_id, val_indo, 'indo')]\n",
        "\n",
        "# Evaluate all 6 models\n",
        "accuracies = []\n",
        "for vocab, val_df, ln in lang:\n",
        "    print(f'Lanuage: {ln}')\n",
        "    for doc in ['question_text', 'document_plaintext']:\n",
        "\n",
        "\n",
        "        print(f'Data: {doc}')\n",
        "        name = 'best-val-'+ln+'-'+doc+'.pt'\n",
        "        model.load_state_dict(torch.load(name,  map_location=device))\n",
        "\n",
        "        results = eval_word_gen(model, val_df, vocab, doc, k, max_len)\n",
        "        acc = compute_performance(results,max_len)\n",
        "        identifier = ln + ' ' + doc\n",
        "        print(acc)\n",
        "        accuracies.append((identifier, acc))\n",
        "\n",
        "print('\\n', accuracies)"
      ],
      "metadata": {
        "colab": {
          "base_uri": "https://localhost:8080/"
        },
        "id": "13_WkCsrnVyE",
        "outputId": "a83da942-60db-412a-8e50-077b0c7a1227"
      },
      "execution_count": 19,
      "outputs": [
        {
          "output_type": "stream",
          "name": "stdout",
          "text": [
            "Lanuage: arab\n",
            "Data: question_text\n"
          ]
        },
        {
          "output_type": "stream",
          "name": "stderr",
          "text": [
            "Evaluating: 100%|██████████| 29598/29598 [03:13<00:00, 152.98it/s]\n"
          ]
        },
        {
          "output_type": "stream",
          "name": "stdout",
          "text": [
            "tensor([0.7442, 0.8421, 0.3237, 0.2979, 0.3041, 0.3818, 0.4844, 0.5610, 0.5969,\n",
            "        0.6299])\n",
            "Data: document_plaintext\n"
          ]
        },
        {
          "output_type": "stream",
          "name": "stderr",
          "text": [
            "Evaluating: 100%|██████████| 29598/29598 [03:53<00:00, 126.53it/s]\n"
          ]
        },
        {
          "output_type": "stream",
          "name": "stdout",
          "text": [
            "tensor([0.3480, 0.4675, 0.2336, 0.2682, 0.2619, 0.2709, 0.2849, 0.2964, 0.2979,\n",
            "        0.3050])\n",
            "Lanuage: beng\n",
            "Data: question_text\n"
          ]
        },
        {
          "output_type": "stream",
          "name": "stderr",
          "text": [
            "Evaluating: 100%|██████████| 4779/4779 [00:35<00:00, 135.62it/s]\n"
          ]
        },
        {
          "output_type": "stream",
          "name": "stdout",
          "text": [
            "tensor([0.0778, 0.0829, 0.0785, 0.1408, 0.2316, 0.3254, 0.4327, 0.5014, 0.5624,\n",
            "        0.6040])\n",
            "Data: document_plaintext\n"
          ]
        },
        {
          "output_type": "stream",
          "name": "stderr",
          "text": [
            "Evaluating: 100%|██████████| 4779/4779 [00:35<00:00, 135.50it/s]\n"
          ]
        },
        {
          "output_type": "stream",
          "name": "stdout",
          "text": [
            "tensor([0.2404, 0.4133, 0.2724, 0.2716, 0.2708, 0.2733, 0.2749, 0.2892, 0.2850,\n",
            "        0.2836])\n",
            "Lanuage: indo\n",
            "Data: question_text\n"
          ]
        },
        {
          "output_type": "stream",
          "name": "stderr",
          "text": [
            "Evaluating: 100%|██████████| 11394/11394 [01:15<00:00, 150.98it/s]\n"
          ]
        },
        {
          "output_type": "stream",
          "name": "stdout",
          "text": [
            "tensor([0.5113, 0.7460, 0.4867, 0.3236, 0.2186, 0.3368, 0.4809, 0.5877, 0.6496,\n",
            "        0.6802])\n",
            "Data: document_plaintext\n"
          ]
        },
        {
          "output_type": "stream",
          "name": "stderr",
          "text": [
            "Evaluating: 100%|██████████| 11394/11394 [01:30<00:00, 126.37it/s]\n"
          ]
        },
        {
          "output_type": "stream",
          "name": "stdout",
          "text": [
            "tensor([0.2145, 0.3884, 0.2759, 0.2956, 0.2904, 0.2926, 0.3173, 0.3105, 0.3188,\n",
            "        0.3036])\n",
            "\n",
            " [('arab question_text', tensor([0.7442, 0.8421, 0.3237, 0.2979, 0.3041, 0.3818, 0.4844, 0.5610, 0.5969,\n",
            "        0.6299])), ('arab document_plaintext', tensor([0.3480, 0.4675, 0.2336, 0.2682, 0.2619, 0.2709, 0.2849, 0.2964, 0.2979,\n",
            "        0.3050])), ('beng question_text', tensor([0.0778, 0.0829, 0.0785, 0.1408, 0.2316, 0.3254, 0.4327, 0.5014, 0.5624,\n",
            "        0.6040])), ('beng document_plaintext', tensor([0.2404, 0.4133, 0.2724, 0.2716, 0.2708, 0.2733, 0.2749, 0.2892, 0.2850,\n",
            "        0.2836])), ('indo question_text', tensor([0.5113, 0.7460, 0.4867, 0.3236, 0.2186, 0.3368, 0.4809, 0.5877, 0.6496,\n",
            "        0.6802])), ('indo document_plaintext', tensor([0.2145, 0.3884, 0.2759, 0.2956, 0.2904, 0.2926, 0.3173, 0.3105, 0.3188,\n",
            "        0.3036]))]\n"
          ]
        }
      ]
    },
    {
      "cell_type": "markdown",
      "source": [
        "Plot accuracies"
      ],
      "metadata": {
        "id": "V1FUuWlSWBPZ"
      }
    },
    {
      "cell_type": "code",
      "source": [
        "import matplotlib.pyplot as plt\n",
        "\n",
        "model_names = ['N-gram, question',\n",
        "               'N-gram, document',\n",
        "               'LSTM, question',\n",
        "               'LSTM, document',\n",
        "               'Transformer, question',\n",
        "               'Transformer, document']\n",
        "accuracy_data = [\n",
        "    [0.6771819137749737, 0.22082018927444794, 0.1808622502628812, 0.2235817575083426, 0.3278955954323002, 0.3958333333333333, 0.4686192468619247, 0.4861111111111111, 0.5116279069767442, 0.4222222222222222],  # Ngram quest\n",
        "    [0.1892744479495268, 0.15615141955835962, 0.15, 0.17223105458399576, 0.16622127204703366, 0.17189189189189188, 0.16111414527580556, 0.16501103752759383, 0.18050139275766017, 0.1858108108108108],  # Ngram docs\n",
        "    [0.7442, 0.8421, 0.3237, 0.2979, 0.3041, 0.3818, 0.4844, 0.5610, 0.5969, 0.6299],  # LSTM quest\n",
        "    [0.3480, 0.4675, 0.2336, 0.2682, 0.2619, 0.2709, 0.2849, 0.2964, 0.2979, 0.3050],  # LSTM docs\n",
        "    [0.9994756161510225, 0.7126376507603566, 0.47614053487152597, 0.1740954378605139, 0.33560566334556896, 0.281069743051914, 0.1976927110644992, 0.14735186156266386, 0.11955951756685894, 0.07813319349764027],   # Trans quest\n",
        "    [0.3166, 0.6421, 0.6142, 0.4166, 0.5613, 0.6123, 0.5321, 0.5234, 0.3543, 0.2324] # TRANS DOC\n",
        "    ]\n",
        "\n",
        "# Create x-values (numbers 1 to 10)\n",
        "x_values = list(range(1, 11))\n",
        "\n",
        "# Create the plot\n",
        "plt.figure(figsize=(10, 6))  # Set the figure size\n",
        "for i in range(len(model_names)):\n",
        "    plt.plot(x_values, accuracy_data[i], marker='o', label=model_names[i])\n",
        "\n",
        "plt.title(\"Arabic\")\n",
        "plt.xlabel(\"Word index (1-10)\")\n",
        "plt.ylabel(\"Accuracy\")\n",
        "plt.grid(True)\n",
        "plt.legend(loc='best')\n",
        "\n",
        "# Show the plot\n",
        "plt.show()\n"
      ],
      "metadata": {
        "colab": {
          "base_uri": "https://localhost:8080/",
          "height": 564
        },
        "id": "M8zZIpGxWA5M",
        "outputId": "017f8296-c779-4a28-dd8a-297aed89b7c7"
      },
      "execution_count": 3,
      "outputs": [
        {
          "output_type": "display_data",
          "data": {
            "text/plain": [
              "<Figure size 1000x600 with 1 Axes>"
            ],
            "image/png": "[encoded data removed]"
          },
          "metadata": {}
        }
      ]
    },
    {
      "cell_type": "markdown",
      "source": [
        "Bengali"
      ],
      "metadata": {
        "id": "R-_Knpo_c70F"
      }
    },
    {
      "cell_type": "code",
      "source": [
        "import matplotlib.pyplot as plt\n",
        "\n",
        "model_names = ['N-gram, question',\n",
        "               'N-gram, document',\n",
        "               'LSTM, question',\n",
        "               'LSTM, document',\n",
        "               'Transformer, question',\n",
        "               'Transformer, document']\n",
        "accuracy_data = [\n",
        "    [0.19642857142857142, 0.25892857142857145, 0.32142857142857145, 0.42857142857142855, 0.5504587155963303, 0.6116504854368932, 0.6931818181818182, 0.7076923076923077, 0.8222222222222222, 0.7241379310344828], # Ngram quest\n",
        "    [0.16964285714285715, 0.14285714285714285, 0.15695067264573992, 0.12612612612612611, 0.13122171945701358, 0.15454545454545454, 0.15, 0.14678899082568808, 0.14883720930232558, 0.16822429906542055], # Ngram docs\n",
        "    [0.0778, 0.0829, 0.0785, 0.1408, 0.2316, 0.3254, 0.4327, 0.5014, 0.5624, 0.6040],  # LSTM quest\n",
        "    [0.2404, 0.4133, 0.2724, 0.2716, 0.2708, 0.2733, 0.2749, 0.2892, 0.2850, 0.2836],  # LSTM docs\n",
        "    [0.9777777777777777, 0.5466666666666666, 0.6133333333333333, 0.2311111111111111, 0.4888888888888889, 0.4533333333333333, 0.29777777777777775, 0.26222222222222225, 0.17333333333333334, 0.13333333333333333], # Trans quest\n",
        "    [0.2234, 0.5882, 0.4166, 0.3231, 0.6123, 0.3315, 0.3413, 0.5164, 0.5435, 0.5319] # Trans doc\n",
        "    ]\n",
        "\n",
        "# Create x-values (numbers 1 to 10)\n",
        "x_values = list(range(1, 11))\n",
        "\n",
        "# Create the plot\n",
        "plt.figure(figsize=(10, 6))  # Set the figure size\n",
        "for i in range(len(model_names)):\n",
        "    plt.plot(x_values, accuracy_data[i], marker='o', label=model_names[i])\n",
        "\n",
        "plt.title(\"Bengali\")\n",
        "plt.xlabel(\"Word index (1-10)\")\n",
        "plt.ylabel(\"Accuracy\")\n",
        "plt.grid(True)\n",
        "plt.legend(loc='best')\n",
        "\n",
        "# Show the plot\n",
        "plt.show()"
      ],
      "metadata": {
        "colab": {
          "base_uri": "https://localhost:8080/",
          "height": 564
        },
        "id": "XvROpEoDc_CU",
        "outputId": "853816de-6dfc-4f44-81d4-cd2eda2ff9b3"
      },
      "execution_count": 4,
      "outputs": [
        {
          "output_type": "display_data",
          "data": {
            "text/plain": [
              "<Figure size 1000x600 with 1 Axes>"
            ],
            "image/png": "[encoded data removed]"
          },
          "metadata": {}
        }
      ]
    },
    {
      "cell_type": "markdown",
      "source": [
        "Indonesis"
      ],
      "metadata": {
        "id": "7XAG2-z8dO38"
      }
    },
    {
      "cell_type": "code",
      "source": [
        "import matplotlib.pyplot as plt\n",
        "\n",
        "model_names = ['N-gram, question',\n",
        "               'N-gram, document',\n",
        "               'LSTM, question',\n",
        "               'LSTM, document',\n",
        "               'Transformer, question',\n",
        "               'Transformer, document']\n",
        "accuracy_data = [\n",
        "    [0.4063811922753988, 0.29303106633081444, 0.23173803526448364, 0.2576419213973799, 0.3706140350877193, 0.45266781411359724, 0.4748201438848921, 0.5316455696202531, 0.65, 0.42857142857142855], # Ngram quest\n",
        "    [0.1847187237615449, 0.16554621848739495, 0.19208087615838249, 0.1921768707482993, 0.1982832618025751, 0.21872265966754156, 0.1909814323607427, 0.1906474820143885, 0.1912964641885766, 0.1780821917808219], # Ngram docs\n",
        "    [0.5113, 0.7460, 0.4867, 0.3236, 0.2186, 0.3368, 0.4809, 0.5877, 0.6496, 0.6802],  # LSTM quest\n",
        "    [0.2145, 0.3884, 0.2759, 0.2956, 0.2904, 0.2926, 0.3173, 0.3105, 0.3188, 0.3036],  # LSTM docs\n",
        "    [0.010067114093959731, 0.9991610738255033, 0.4354026845637584, 0.07718120805369127, 0.0436241610738255, 0.05201342281879195, 0.053691275167785234, 0.04697986577181208, 0.02181208053691275, 0.006711409395973154], # Trans quest\n",
        "    [0.0073, 0.9984, 0.4897, 0.0912, 0.0167, 0.0293, 0.0466, 0.0262, 0.0204, 0.01153] # Trans doc\n",
        "    ]\n",
        "\n",
        "# Create x-values (numbers 1 to 10)\n",
        "x_values = list(range(1, 11))\n",
        "\n",
        "# Create the plot\n",
        "plt.figure(figsize=(10, 6))  # Set the figure size\n",
        "for i in range(len(model_names)):\n",
        "    plt.plot(x_values, accuracy_data[i], marker='o', label=model_names[i])\n",
        "\n",
        "plt.title(\"Indonesian\")\n",
        "plt.xlabel(\"Word index (1-10)\")\n",
        "plt.ylabel(\"Accuracy\")\n",
        "plt.grid(True)\n",
        "plt.legend(loc='best')\n",
        "\n",
        "# Show the plot\n",
        "plt.show()"
      ],
      "metadata": {
        "colab": {
          "base_uri": "https://localhost:8080/",
          "height": 564
        },
        "id": "x9xjX2gDdSoQ",
        "outputId": "d9d00e07-ee8f-492c-ed93-dfda7677f904"
      },
      "execution_count": 6,
      "outputs": [
        {
          "output_type": "display_data",
          "data": {
            "text/plain": [
              "<Figure size 1000x600 with 1 Axes>"
            ],
            "image/png": "[encoded data removed]"
          },
          "metadata": {}
        }
      ]
    }
  ],
  "metadata": {
    "kernelspec": {
      "display_name": "Python 3",
      "name": "python3"
    },
    "language_info": {
      "codemirror_mode": {
        "name": "ipython",
        "version": 3
      },
      "file_extension": ".py",
      "mimetype": "text/x-python",
      "name": "python",
      "nbconvert_exporter": "python",
      "pygments_lexer": "ipython3",
      "version": "3.9.18"
    },
    "orig_nbformat": 4,
    "colab": {
      "provenance": [],
      "collapsed_sections": [
        "kwf78qbFsASe",
        "Wm_pUpJNsASf",
        "HLWFRMMDsASg",
        "cVdJEOSDsASg",
        "KRZerko7sASh",
        "t08bv9yMdhBE"
      ],
      "gpuType": "T4"
    }
  },
  "nbformat": 4,
  "nbformat_minor": 0
}